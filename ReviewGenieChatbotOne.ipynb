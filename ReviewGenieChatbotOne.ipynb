{
  "cells": [
    {
      "cell_type": "markdown",
      "source": [
        "# Meet Review Genie, a conversational chatbot for your e-commerce platform's reviews."
      ],
      "metadata": {
        "id": "CkaZ15bkt6SM"
      }
    },
    {
      "cell_type": "markdown",
      "metadata": {
        "id": "R-9ZmExzDRva"
      },
      "source": [
        "### Understanding the Limitation of the LLM"
      ]
    },
    {
      "cell_type": "code",
      "execution_count": 1,
      "metadata": {
        "id": "xRit5A9KCx20"
      },
      "outputs": [],
      "source": [
        "# Importing the OpenAI library to interact with OpenAI's API services.\n",
        "from openai import OpenAI"
      ]
    },
    {
      "cell_type": "code",
      "execution_count": 2,
      "metadata": {
        "colab": {
          "base_uri": "https://localhost:8080/"
        },
        "id": "nKBjz45zDj6r",
        "outputId": "e0f900f8-ed1e-4f92-dcf7-25550df6ef5d",
        "collapsed": true
      },
      "outputs": [
        {
          "name": "stdout",
          "output_type": "stream",
          "text": [
            "Enter your OpenAI API key: ··········\n"
          ]
        }
      ],
      "source": [
        "import os  # Importing the os module to interact with environment variables\n",
        "import getpass  # Importing getpass to securely input sensitive information\n",
        "\n",
        "# Prompting the user to securely enter their OpenAI API key without displaying it on the screen\n",
        "OPENAI_API_KEY = getpass.getpass(\"Enter your OpenAI API key: \")"
      ]
    },
    {
      "cell_type": "code",
      "execution_count": 3,
      "metadata": {
        "id": "vtvWPnanDkAj"
      },
      "outputs": [],
      "source": [
        "# Defining the prompt to query the LLM\n",
        "prompt = ''' What was uber's revenue in 2022? '''"
      ]
    },
    {
      "cell_type": "code",
      "execution_count": 4,
      "metadata": {
        "id": "jBFCA_A_DWBp",
        "colab": {
          "base_uri": "https://localhost:8080/"
        },
        "outputId": "003b286b-ab61-4fc9-be05-c78e4ff9da3e"
      },
      "outputs": [
        {
          "output_type": "stream",
          "name": "stdout",
          "text": [
            "I'm sorry, but as an AI, I do not have access to real-time data. I recommend checking Uber's official website or financial reports for the most recent revenue figures in 2022.\n"
          ]
        }
      ],
      "source": [
        "# Sending a request to the OpenAI API to generate a chat response\n",
        "client = OpenAI(api_key=OPENAI_API_KEY)\n",
        "openai_response = client.chat.completions.create(\n",
        "    model='gpt-3.5-turbo',  # Specifying the model to use;\n",
        "    # Note: An older model chosen for testing purposes because the cutoff is 2021 whereas prompt is querying details about 2022\n",
        "    messages=[{'role': 'user', 'content': prompt}]  # Creating a structured message for the AI model\n",
        ")\n",
        "print(openai_response.choices[0].message.content)"
      ]
    },
    {
      "cell_type": "code",
      "execution_count": 5,
      "metadata": {
        "id": "nSAk_2EGD1CC"
      },
      "outputs": [],
      "source": [
        "## Let's create the above context for the prompt\n",
        "# Defining a context string with revenue details retrieved from an external source.\n",
        "retrieved_context = '''Revenue was $37.3 billion, up 17% year-over-year. Mobility revenue increased $5.8 billion primarily attributable to an increase in\n",
        "               Mobility Gross Bookings of 31% year-over-year.'''"
      ]
    },
    {
      "cell_type": "code",
      "execution_count": 6,
      "metadata": {
        "id": "Irw2unBKFb0M"
      },
      "outputs": [],
      "source": [
        "## Let's modify our prompt now\n",
        "# Creating a prompt by embedding the retrieved context into a question for the AI model.\n",
        "\n",
        "prompt = f\"What was Uber's revenue in 2022? Check in {retrieved_context}\"\n",
        "\n",
        "# Note: The AI is being asked to analyze the given context and provide Uber's revenue for 2022"
      ]
    },
    {
      "cell_type": "code",
      "execution_count": 7,
      "metadata": {
        "id": "R70ZN0eKFoo7"
      },
      "outputs": [],
      "source": [
        "## Let's ask the LLM again\n",
        "openai_response = client.chat.completions.create(\n",
        "    model = 'gpt-3.5-turbo',\n",
        "    messages = [{'role': 'user', 'content': prompt}])"
      ]
    },
    {
      "cell_type": "code",
      "execution_count": 8,
      "metadata": {
        "id": "09ddo9F1Fs-w",
        "colab": {
          "base_uri": "https://localhost:8080/",
          "height": 52
        },
        "outputId": "655b4a2b-aef2-4a9c-e042-a4c19110c10d"
      },
      "outputs": [
        {
          "output_type": "execute_result",
          "data": {
            "text/plain": [
              "\"Uber's revenue in 2022 was $37.3 billion, with a significant portion of this coming from its Mobility segment which saw a 31% increase in Gross Bookings compared to the previous year.\""
            ],
            "application/vnd.google.colaboratory.intrinsic+json": {
              "type": "string"
            }
          },
          "metadata": {},
          "execution_count": 8
        }
      ],
      "source": [
        "# Accessing the generated response from the AI model.\n",
        "openai_response.choices[0].message.content"
      ]
    },
    {
      "cell_type": "code",
      "execution_count": 36,
      "metadata": {
        "collapsed": true,
        "id": "ekric37zU6aV"
      },
      "outputs": [],
      "source": [
        "\n",
        "%%capture output\n",
        "# Installing the LangChain Hub package to access and manage pre-built AI chains, prompts, and agents.\n",
        "!pip install langchainhub\n",
        "\n",
        "# Installing the LangChain OpenAI integration to use OpenAI models within LangChain workflows.\n",
        "!pip install langchain-openai\n",
        "\n",
        "# Installing the core LangChain library for building LLM-based applications, including chaining, memory, and retrieval capabilities.\n",
        "!pip install langchain\n",
        "\n",
        "# Installing the community version of LangChain, which includes integrations and tools contributed by the community.\n",
        "!pip install langchain-community\n",
        "\n",
        "# Installing FAISS (Facebook AI Similarity Search) for efficient similarity-based search on text embeddings.\n",
        "!pip install faiss-cpu\n",
        "\n",
        "# Installing Gradio, a framework to create web-based UIs for AI models and applications easily.\n",
        "!pip install gradio\n"
      ]
    },
    {
      "cell_type": "code",
      "execution_count": 10,
      "metadata": {
        "id": "KqC1rIL7IyXt"
      },
      "outputs": [],
      "source": [
        "# Importing the KaggleHub library to interact with datasets and models available on Kaggle.\n",
        "import kagglehub\n",
        "\n",
        "# Importing the CSV module for reading and writing CSV files.\n",
        "import csv\n",
        "\n",
        "# Importing pandas for data manipulation and analysis.\n",
        "import pandas as pd\n",
        "\n",
        "# Importing numpy for numerical operations and handling arrays efficiently.\n",
        "import numpy as np\n",
        "\n",
        "# Importing os to interact with the operating system, such as environment variables and file paths.\n",
        "import os\n",
        "\n",
        "# Importing getpass to securely handle user input (e.g., API keys or passwords).\n",
        "import getpass\n"
      ]
    },
    {
      "cell_type": "markdown",
      "metadata": {
        "id": "V9Vphy17StbK"
      },
      "source": [
        "### STEP 1: Data Preparation"
      ]
    },
    {
      "cell_type": "code",
      "source": [
        "from google.colab import drive\n",
        "drive.mount('/content/drive') # Mounting to the default Google Drive location in Colab"
      ],
      "metadata": {
        "colab": {
          "base_uri": "https://localhost:8080/"
        },
        "id": "YQvqZVVWz-4Z",
        "outputId": "098f6009-b6a7-41b8-de93-ee839a647a67"
      },
      "execution_count": 11,
      "outputs": [
        {
          "output_type": "stream",
          "name": "stdout",
          "text": [
            "Mounted at /content/drive\n"
          ]
        }
      ]
    },
    {
      "cell_type": "code",
      "source": [
        "#xx='/content/drive/MyDrive/IK-KickStart/ProjectUp/Gene/Project/'\n",
        "file_name='/content/drive/MyDrive/IK-Company/ProjectUp/Gene/Project/MyData/dataset/prod_small.csv'"
      ],
      "metadata": {
        "id": "VKVh3zGx2dTO"
      },
      "execution_count": 12,
      "outputs": []
    },
    {
      "cell_type": "code",
      "source": [
        "# prompt: unzip a file\n",
        "\n",
        "# !unzip \"/content/drive/MyDrive/IK-Company/ProjectUp/Gene/Project/archive.zip\" -d \"/content/drive/MyDrive/IK-Company/ProjectUp/Gene/Project/MyData\"\n"
      ],
      "metadata": {
        "colab": {
          "base_uri": "https://localhost:8080/"
        },
        "id": "GAcnWAea0yS6",
        "outputId": "d89a71d9-9d34-4c5e-98ac-8cabb88b4477"
      },
      "execution_count": null,
      "outputs": [
        {
          "output_type": "stream",
          "name": "stdout",
          "text": [
            "Archive:  /content/drive/MyDrive/IK-KickStart/ProjectUp/Gene/Project/archive.zip\n",
            "  inflating: /content/drive/MyDrive/IK-KickStart/ProjectUp/Gene/Project/MyData/dataset/train.csv  \n"
          ]
        }
      ]
    },
    {
      "cell_type": "code",
      "execution_count": 13,
      "metadata": {
        "id": "0XiPvpp1FxKb"
      },
      "outputs": [],
      "source": [
        "# Loading the data\n",
        "df = pd.read_csv(file_name,index_col=0)"
      ]
    },
    {
      "cell_type": "code",
      "execution_count": 14,
      "metadata": {
        "id": "MznuqvAmRx_g",
        "colab": {
          "base_uri": "https://localhost:8080/",
          "height": 293
        },
        "outputId": "6dbbc794-ca12-4de6-84bb-52f02e0299ef"
      },
      "outputs": [
        {
          "output_type": "execute_result",
          "data": {
            "text/plain": [
              "   PRODUCT_ID                                              TITLE  \\\n",
              "0     1925202  ArtzFolio Tulip Flowers Blackout Curtain for D...   \n",
              "1     2673191  Marks & Spencer Girls' Pyjama Sets T86_2561C_N...   \n",
              "2     2765088  PRIKNIK Horn Red Electric Air Horn Compressor ...   \n",
              "3     1594019  ALISHAH Women's Cotton Ankle Length Leggings C...   \n",
              "4      283658  The United Empire Loyalists: A Chronicle of th...   \n",
              "\n",
              "                                       BULLET_POINTS  \\\n",
              "0  [LUXURIOUS & APPEALING: Beautiful custom-made ...   \n",
              "1  [Harry Potter Hedwig Pyjamas (6-16 Yrs),100% c...   \n",
              "2  [Loud Dual Tone Trumpet Horn, Compatible With ...   \n",
              "3  [Made By 95%cotton and 5% Lycra which gives yo...   \n",
              "4                                                NaN   \n",
              "\n",
              "                                         DESCRIPTION  PRODUCT_TYPE_ID  \\\n",
              "0                                                NaN             1650   \n",
              "1                                                NaN             2755   \n",
              "2  Specifications: Color: Red, Material: Aluminiu...             7537   \n",
              "3  AISHAH Women's Lycra Cotton Ankel Leggings. Br...             2996   \n",
              "4                                                NaN             6112   \n",
              "\n",
              "   PRODUCT_LENGTH  \n",
              "0     2125.980000  \n",
              "1      393.700000  \n",
              "2      748.031495  \n",
              "3      787.401574  \n",
              "4      598.424000  "
            ],
            "text/html": [
              "\n",
              "  <div id=\"df-8551cae4-8d29-41ba-a270-a38e2609118c\" class=\"colab-df-container\">\n",
              "    <div>\n",
              "<style scoped>\n",
              "    .dataframe tbody tr th:only-of-type {\n",
              "        vertical-align: middle;\n",
              "    }\n",
              "\n",
              "    .dataframe tbody tr th {\n",
              "        vertical-align: top;\n",
              "    }\n",
              "\n",
              "    .dataframe thead th {\n",
              "        text-align: right;\n",
              "    }\n",
              "</style>\n",
              "<table border=\"1\" class=\"dataframe\">\n",
              "  <thead>\n",
              "    <tr style=\"text-align: right;\">\n",
              "      <th></th>\n",
              "      <th>PRODUCT_ID</th>\n",
              "      <th>TITLE</th>\n",
              "      <th>BULLET_POINTS</th>\n",
              "      <th>DESCRIPTION</th>\n",
              "      <th>PRODUCT_TYPE_ID</th>\n",
              "      <th>PRODUCT_LENGTH</th>\n",
              "    </tr>\n",
              "  </thead>\n",
              "  <tbody>\n",
              "    <tr>\n",
              "      <th>0</th>\n",
              "      <td>1925202</td>\n",
              "      <td>ArtzFolio Tulip Flowers Blackout Curtain for D...</td>\n",
              "      <td>[LUXURIOUS &amp; APPEALING: Beautiful custom-made ...</td>\n",
              "      <td>NaN</td>\n",
              "      <td>1650</td>\n",
              "      <td>2125.980000</td>\n",
              "    </tr>\n",
              "    <tr>\n",
              "      <th>1</th>\n",
              "      <td>2673191</td>\n",
              "      <td>Marks &amp; Spencer Girls' Pyjama Sets T86_2561C_N...</td>\n",
              "      <td>[Harry Potter Hedwig Pyjamas (6-16 Yrs),100% c...</td>\n",
              "      <td>NaN</td>\n",
              "      <td>2755</td>\n",
              "      <td>393.700000</td>\n",
              "    </tr>\n",
              "    <tr>\n",
              "      <th>2</th>\n",
              "      <td>2765088</td>\n",
              "      <td>PRIKNIK Horn Red Electric Air Horn Compressor ...</td>\n",
              "      <td>[Loud Dual Tone Trumpet Horn, Compatible With ...</td>\n",
              "      <td>Specifications: Color: Red, Material: Aluminiu...</td>\n",
              "      <td>7537</td>\n",
              "      <td>748.031495</td>\n",
              "    </tr>\n",
              "    <tr>\n",
              "      <th>3</th>\n",
              "      <td>1594019</td>\n",
              "      <td>ALISHAH Women's Cotton Ankle Length Leggings C...</td>\n",
              "      <td>[Made By 95%cotton and 5% Lycra which gives yo...</td>\n",
              "      <td>AISHAH Women's Lycra Cotton Ankel Leggings. Br...</td>\n",
              "      <td>2996</td>\n",
              "      <td>787.401574</td>\n",
              "    </tr>\n",
              "    <tr>\n",
              "      <th>4</th>\n",
              "      <td>283658</td>\n",
              "      <td>The United Empire Loyalists: A Chronicle of th...</td>\n",
              "      <td>NaN</td>\n",
              "      <td>NaN</td>\n",
              "      <td>6112</td>\n",
              "      <td>598.424000</td>\n",
              "    </tr>\n",
              "  </tbody>\n",
              "</table>\n",
              "</div>\n",
              "    <div class=\"colab-df-buttons\">\n",
              "\n",
              "  <div class=\"colab-df-container\">\n",
              "    <button class=\"colab-df-convert\" onclick=\"convertToInteractive('df-8551cae4-8d29-41ba-a270-a38e2609118c')\"\n",
              "            title=\"Convert this dataframe to an interactive table.\"\n",
              "            style=\"display:none;\">\n",
              "\n",
              "  <svg xmlns=\"http://www.w3.org/2000/svg\" height=\"24px\" viewBox=\"0 -960 960 960\">\n",
              "    <path d=\"M120-120v-720h720v720H120Zm60-500h600v-160H180v160Zm220 220h160v-160H400v160Zm0 220h160v-160H400v160ZM180-400h160v-160H180v160Zm440 0h160v-160H620v160ZM180-180h160v-160H180v160Zm440 0h160v-160H620v160Z\"/>\n",
              "  </svg>\n",
              "    </button>\n",
              "\n",
              "  <style>\n",
              "    .colab-df-container {\n",
              "      display:flex;\n",
              "      gap: 12px;\n",
              "    }\n",
              "\n",
              "    .colab-df-convert {\n",
              "      background-color: #E8F0FE;\n",
              "      border: none;\n",
              "      border-radius: 50%;\n",
              "      cursor: pointer;\n",
              "      display: none;\n",
              "      fill: #1967D2;\n",
              "      height: 32px;\n",
              "      padding: 0 0 0 0;\n",
              "      width: 32px;\n",
              "    }\n",
              "\n",
              "    .colab-df-convert:hover {\n",
              "      background-color: #E2EBFA;\n",
              "      box-shadow: 0px 1px 2px rgba(60, 64, 67, 0.3), 0px 1px 3px 1px rgba(60, 64, 67, 0.15);\n",
              "      fill: #174EA6;\n",
              "    }\n",
              "\n",
              "    .colab-df-buttons div {\n",
              "      margin-bottom: 4px;\n",
              "    }\n",
              "\n",
              "    [theme=dark] .colab-df-convert {\n",
              "      background-color: #3B4455;\n",
              "      fill: #D2E3FC;\n",
              "    }\n",
              "\n",
              "    [theme=dark] .colab-df-convert:hover {\n",
              "      background-color: #434B5C;\n",
              "      box-shadow: 0px 1px 3px 1px rgba(0, 0, 0, 0.15);\n",
              "      filter: drop-shadow(0px 1px 2px rgba(0, 0, 0, 0.3));\n",
              "      fill: #FFFFFF;\n",
              "    }\n",
              "  </style>\n",
              "\n",
              "    <script>\n",
              "      const buttonEl =\n",
              "        document.querySelector('#df-8551cae4-8d29-41ba-a270-a38e2609118c button.colab-df-convert');\n",
              "      buttonEl.style.display =\n",
              "        google.colab.kernel.accessAllowed ? 'block' : 'none';\n",
              "\n",
              "      async function convertToInteractive(key) {\n",
              "        const element = document.querySelector('#df-8551cae4-8d29-41ba-a270-a38e2609118c');\n",
              "        const dataTable =\n",
              "          await google.colab.kernel.invokeFunction('convertToInteractive',\n",
              "                                                    [key], {});\n",
              "        if (!dataTable) return;\n",
              "\n",
              "        const docLinkHtml = 'Like what you see? Visit the ' +\n",
              "          '<a target=\"_blank\" href=https://colab.research.google.com/notebooks/data_table.ipynb>data table notebook</a>'\n",
              "          + ' to learn more about interactive tables.';\n",
              "        element.innerHTML = '';\n",
              "        dataTable['output_type'] = 'display_data';\n",
              "        await google.colab.output.renderOutput(dataTable, element);\n",
              "        const docLink = document.createElement('div');\n",
              "        docLink.innerHTML = docLinkHtml;\n",
              "        element.appendChild(docLink);\n",
              "      }\n",
              "    </script>\n",
              "  </div>\n",
              "\n",
              "\n",
              "<div id=\"df-b8fdde9c-6297-4f13-8176-945722a21e86\">\n",
              "  <button class=\"colab-df-quickchart\" onclick=\"quickchart('df-b8fdde9c-6297-4f13-8176-945722a21e86')\"\n",
              "            title=\"Suggest charts\"\n",
              "            style=\"display:none;\">\n",
              "\n",
              "<svg xmlns=\"http://www.w3.org/2000/svg\" height=\"24px\"viewBox=\"0 0 24 24\"\n",
              "     width=\"24px\">\n",
              "    <g>\n",
              "        <path d=\"M19 3H5c-1.1 0-2 .9-2 2v14c0 1.1.9 2 2 2h14c1.1 0 2-.9 2-2V5c0-1.1-.9-2-2-2zM9 17H7v-7h2v7zm4 0h-2V7h2v10zm4 0h-2v-4h2v4z\"/>\n",
              "    </g>\n",
              "</svg>\n",
              "  </button>\n",
              "\n",
              "<style>\n",
              "  .colab-df-quickchart {\n",
              "      --bg-color: #E8F0FE;\n",
              "      --fill-color: #1967D2;\n",
              "      --hover-bg-color: #E2EBFA;\n",
              "      --hover-fill-color: #174EA6;\n",
              "      --disabled-fill-color: #AAA;\n",
              "      --disabled-bg-color: #DDD;\n",
              "  }\n",
              "\n",
              "  [theme=dark] .colab-df-quickchart {\n",
              "      --bg-color: #3B4455;\n",
              "      --fill-color: #D2E3FC;\n",
              "      --hover-bg-color: #434B5C;\n",
              "      --hover-fill-color: #FFFFFF;\n",
              "      --disabled-bg-color: #3B4455;\n",
              "      --disabled-fill-color: #666;\n",
              "  }\n",
              "\n",
              "  .colab-df-quickchart {\n",
              "    background-color: var(--bg-color);\n",
              "    border: none;\n",
              "    border-radius: 50%;\n",
              "    cursor: pointer;\n",
              "    display: none;\n",
              "    fill: var(--fill-color);\n",
              "    height: 32px;\n",
              "    padding: 0;\n",
              "    width: 32px;\n",
              "  }\n",
              "\n",
              "  .colab-df-quickchart:hover {\n",
              "    background-color: var(--hover-bg-color);\n",
              "    box-shadow: 0 1px 2px rgba(60, 64, 67, 0.3), 0 1px 3px 1px rgba(60, 64, 67, 0.15);\n",
              "    fill: var(--button-hover-fill-color);\n",
              "  }\n",
              "\n",
              "  .colab-df-quickchart-complete:disabled,\n",
              "  .colab-df-quickchart-complete:disabled:hover {\n",
              "    background-color: var(--disabled-bg-color);\n",
              "    fill: var(--disabled-fill-color);\n",
              "    box-shadow: none;\n",
              "  }\n",
              "\n",
              "  .colab-df-spinner {\n",
              "    border: 2px solid var(--fill-color);\n",
              "    border-color: transparent;\n",
              "    border-bottom-color: var(--fill-color);\n",
              "    animation:\n",
              "      spin 1s steps(1) infinite;\n",
              "  }\n",
              "\n",
              "  @keyframes spin {\n",
              "    0% {\n",
              "      border-color: transparent;\n",
              "      border-bottom-color: var(--fill-color);\n",
              "      border-left-color: var(--fill-color);\n",
              "    }\n",
              "    20% {\n",
              "      border-color: transparent;\n",
              "      border-left-color: var(--fill-color);\n",
              "      border-top-color: var(--fill-color);\n",
              "    }\n",
              "    30% {\n",
              "      border-color: transparent;\n",
              "      border-left-color: var(--fill-color);\n",
              "      border-top-color: var(--fill-color);\n",
              "      border-right-color: var(--fill-color);\n",
              "    }\n",
              "    40% {\n",
              "      border-color: transparent;\n",
              "      border-right-color: var(--fill-color);\n",
              "      border-top-color: var(--fill-color);\n",
              "    }\n",
              "    60% {\n",
              "      border-color: transparent;\n",
              "      border-right-color: var(--fill-color);\n",
              "    }\n",
              "    80% {\n",
              "      border-color: transparent;\n",
              "      border-right-color: var(--fill-color);\n",
              "      border-bottom-color: var(--fill-color);\n",
              "    }\n",
              "    90% {\n",
              "      border-color: transparent;\n",
              "      border-bottom-color: var(--fill-color);\n",
              "    }\n",
              "  }\n",
              "</style>\n",
              "\n",
              "  <script>\n",
              "    async function quickchart(key) {\n",
              "      const quickchartButtonEl =\n",
              "        document.querySelector('#' + key + ' button');\n",
              "      quickchartButtonEl.disabled = true;  // To prevent multiple clicks.\n",
              "      quickchartButtonEl.classList.add('colab-df-spinner');\n",
              "      try {\n",
              "        const charts = await google.colab.kernel.invokeFunction(\n",
              "            'suggestCharts', [key], {});\n",
              "      } catch (error) {\n",
              "        console.error('Error during call to suggestCharts:', error);\n",
              "      }\n",
              "      quickchartButtonEl.classList.remove('colab-df-spinner');\n",
              "      quickchartButtonEl.classList.add('colab-df-quickchart-complete');\n",
              "    }\n",
              "    (() => {\n",
              "      let quickchartButtonEl =\n",
              "        document.querySelector('#df-b8fdde9c-6297-4f13-8176-945722a21e86 button');\n",
              "      quickchartButtonEl.style.display =\n",
              "        google.colab.kernel.accessAllowed ? 'block' : 'none';\n",
              "    })();\n",
              "  </script>\n",
              "</div>\n",
              "\n",
              "    </div>\n",
              "  </div>\n"
            ],
            "application/vnd.google.colaboratory.intrinsic+json": {
              "type": "dataframe",
              "variable_name": "df",
              "summary": "{\n  \"name\": \"df\",\n  \"rows\": 100,\n  \"fields\": [\n    {\n      \"column\": \"PRODUCT_ID\",\n      \"properties\": {\n        \"dtype\": \"number\",\n        \"std\": 852274,\n        \"min\": 54125,\n        \"max\": 2998633,\n        \"num_unique_values\": 100,\n        \"samples\": [\n          499846,\n          1033263,\n          2763742\n        ],\n        \"semantic_type\": \"\",\n        \"description\": \"\"\n      }\n    },\n    {\n      \"column\": \"TITLE\",\n      \"properties\": {\n        \"dtype\": \"string\",\n        \"num_unique_values\": 100,\n        \"samples\": [\n          \"Troop Leader Planner: A Complete Must-Have Troop Organizer, Dated Aug 2019 - Aug 2020\",\n          \"Fruit of the Loom Men&#39;s Fleece Full Zip Hoodie\",\n          \"Attiris Women's Satin Semi-Stitched Lehenga Choli (Green, Satin)\"\n        ],\n        \"semantic_type\": \"\",\n        \"description\": \"\"\n      }\n    },\n    {\n      \"column\": \"BULLET_POINTS\",\n      \"properties\": {\n        \"dtype\": \"string\",\n        \"num_unique_values\": 56,\n        \"samples\": [\n          \"[LUXURIOUS & APPEALING: Beautiful custom-made curtains to decorate any home or office | Includes inbuilt tieback to hold the curtain | Completely finished and ready to hang on walls & windows,MATERIAL: Luxurious & versatile fabric with a natural finish | High colour fastness | State-of-the-art digital printing ensures colour consistency and prevents any fading | Eyelets; Cotton Canvas; Width 4.5feet (54inch) | Multicolour | PACKAGE: 2 Room Curtains Eyelets | SIZE: Height 5 feet (60 inch); SET OF 2 PCS,BLACKOUT CURTAIN: 100% opaque & heavy premium cotton canvas fabric | Tight knitted, long life & durable fabric | Printing only on front side with a plain colour back side,MADE TO PERFECTION: Large eyelets at the top to put hanging hooks | Perfectly tailored seams for durability | Refined stitching with a matching thread color,QUALITY ASSURED: Gentle wash with similar colors in cold water | Avoid direct sunlight to prevent fading | Dispatched after MULTIPLE QUALITY CHECKS]\",\n          \"[HIGH QUALITY PVC MATERIAL: The kitchen aluminum foil stickers are made from plastic and aluminum foil, which is much stronger against high temperature than normal PVC sheet. The Anti-bacterial, Anti-mold, and Eco-friendly PVC materials is safe enough to use in Kitchen.,EASY TO USE AND CLEAN: Self-adhesive kitchen wallpaper is easy to stick on the dry, clean and smooth surface. Anti-oil, anti-dust and anti-water, anti-moisture PVC material allows you to wipe stains easily.,EASY CUT AND TRIM: back cut-to-fit grid lines design of the self-adhesive kitchen oil proof sticker is convenient for you to cut and trim any size you want. This silver rhombus texture add more fashion to your kitchen decor.,MULTI-USAGE: The kitchen backsplash wallpaper is great for home decorations to be used in kitchen cabinets ,countertop ,shelves, walls ,Pantry areas ,Dishwashers, Dishwasher Panels, Oven Hood, Refrigerators ,appliance etc, instant peel and apply to flat surfaces.,Anti-oil, anti-dust and anti-water: made from plastic and aluminum foil, much stronger against fire than normal PVC sheet. Resistant to heat and moisture, Easy wipe to remove the stains!]\",\n          \"[COMPLETELY BREATHABLE and 100% ECO-FRIENDLY-The breathable storage bags made with nonwon fabric that allows air to circulate inside, ultimately keeping stored items fresh for longer.Can folding in a small size, save more space if not in use.,DOUBLE STRONG ZIPPERS-The comforts storage bag has double smooth zippers so can open from the end or middle which make the storage bags easy to open and close.The zippers works well even with the bag full.Our zippers are much stronger and bigger than others.We can promise that ours can be used more than 1000 times (not like most cheap underbed bags where zipper break after only few uses).,EASY TO CARRY-Side double handles and front two handles make them easy to carry or grab and pull out from under the bed.,INSTANTLY KNOW WHAT'S INSIDE-Through the transparent top you can find the clothes, blankets, comforts conveniently and quickly without opening the blankets storage bags.,MULTIPURPOSE STORAGE OPTIONS-This underbed storage bag fits perfectly under your bed stacked on each other ,They are large enough that I fit 4 quilts (1 twin, 2 full/queen and a king) plus some pillowcases in just one of them..Also Works great for storing blankets and off season clothes.Dimensions: 39.37\\\"x19.68\\\"x5.90\\\" inches]\"\n        ],\n        \"semantic_type\": \"\",\n        \"description\": \"\"\n      }\n    },\n    {\n      \"column\": \"DESCRIPTION\",\n      \"properties\": {\n        \"dtype\": \"category\",\n        \"num_unique_values\": 48,\n        \"samples\": [\n          \"<b>Under the Bed Storage Containers,Underbed Storage Bins Organizer for Blanket Clothes, Tidy Up Your Closet and Shelf,with Clear Window,2 Sturdy Zippers,4 Strong Handles Set of 2 Coffee with Lantern Printing</b><br> <b>COLOR:white with lantern printing</b><br> <b>SIZE:39.37\\\"x19.68\\\"x5.90\\\"</b><br> <b>Comforter breathable storage bag, Double strong zippers easy to carry or grab fits great under your bed</b><br> -Closet Soft Storage Bag With Clear Window Zippers and Handles ,classify Clothing,Comforters,Holiday Ornaments,Quilts, Blankets.<br> -Whether you want to tidy up your closets or create extra storage space under the bed, this versatile underbed organizer has got you covered in perfect style.<br> -Not only for under the bed, also for guestroom, down the attic stairs, your apartment with limited space to spare. They fold down to flat square when not in use.<br> -The jumbo blanket storage bag?is sturdy and durable.\",\n          \"Body by wacoal seamless underwire is sleek and modern\",\n          \"<p><b>Feature:</b></p><p>1. 480X320 HD resolution, only a few IO can light up the display<br>2. With memory card slot to facilitate the expansion of the experiment, provide a wealth of sample programs<br>3. Multifunctional use, can be used for other display functions through the signal transmission line<br>4. Small size, easy to carry and store, convenient to use and with good performance<br>5. Strict quality control and quality assurance, high safety factor, can be used with peace of mind</p><p><br></p><p><b>Spec:</b></p>Item Type: LCD Screen ModuleSize: Approx. 3.5 (inch)<br>Type: TFT<br>Driver Chip: ILI9488<br>Resolution: 480 x 320 (Pixel)<br>Module Interface: 4-wire SPI interface<br>Effective Display Area: (AA area) 48.96 x 73.44mm / 1.9 x 2.9in&nbsp;<br>Module PCB Floor Size: Approx.56.34 x 98mm / 2.2 x 3.9in&nbsp;<br>VCC Power Supply Voltage: 3.3V~5V<br>Logic I/O Voltage: 3.3V (TTL) <p><br></p><p><b>Package List:</b></p>1 x LCD Screen Module\"\n        ],\n        \"semantic_type\": \"\",\n        \"description\": \"\"\n      }\n    },\n    {\n      \"column\": \"PRODUCT_TYPE_ID\",\n      \"properties\": {\n        \"dtype\": \"number\",\n        \"std\": 3640,\n        \"min\": 0,\n        \"max\": 13101,\n        \"num_unique_values\": 87,\n        \"samples\": [\n          98,\n          1650,\n          2879\n        ],\n        \"semantic_type\": \"\",\n        \"description\": \"\"\n      }\n    },\n    {\n      \"column\": \"PRODUCT_LENGTH\",\n      \"properties\": {\n        \"dtype\": \"number\",\n        \"std\": 1370.245424206136,\n        \"min\": 10.0,\n        \"max\": 8858.25,\n        \"num_unique_values\": 69,\n        \"samples\": [\n          640.0,\n          2125.98,\n          800.0\n        ],\n        \"semantic_type\": \"\",\n        \"description\": \"\"\n      }\n    }\n  ]\n}"
            }
          },
          "metadata": {},
          "execution_count": 14
        }
      ],
      "source": [
        "# Viewing the data\n",
        "df.head()"
      ]
    },
    {
      "cell_type": "markdown",
      "metadata": {
        "id": "y-3RpjmUS21M"
      },
      "source": [
        "**Constructing the text data**\n",
        "\n",
        "It's useful to use both `Title` and `Description`. To help downstream models understand which content is title and which content is description, we will add a prefix explaining which section is title and which is description. So each row should look like\n",
        "\n",
        "```\n",
        "Title\n",
        "{Title}\n",
        "Description\n",
        "{Description}\n",
        "```"
      ]
    },
    {
      "cell_type": "code",
      "execution_count": 15,
      "metadata": {
        "id": "MduzbFnMSdNo"
      },
      "outputs": [],
      "source": [
        "## Let's construct the text data\n",
        "# Initializing empty lists to store product descriptions and their lengths\n",
        "import math\n",
        "product_description =[]\n",
        "product_description_len =[]\n",
        "\n",
        "# Iterating through each row in the dataframe df2\n",
        "for row in df.iterrows():\n",
        "    product = \"\"  # Initialize an empty string to accumulate product details\n",
        "\n",
        "    # Extracting the product title from the current row\n",
        "    title = row[1]['TITLE']\n",
        "\n",
        "    # Checking if the title is valid (not NaN or missing)\n",
        "    if type(title) != float or not math.isnan(title):\n",
        "        product += \"Title\\n\" + title + \"\\n\"  # Append the title to the product description\n",
        "\n",
        "    # Extracting the product description from the current row\n",
        "    description = row[1]['DESCRIPTION']\n",
        "\n",
        "    # Checking if the description is valid (not NaN or missing)\n",
        "    if type(description) != float or not math.isnan(description):\n",
        "        product += \"Description\\n\" + description + \"\\n\"  # Append the description to the product details\n",
        "\n",
        "    # Check if either title or description was added\n",
        "    added_content = title or description\n",
        "    if added_content:\n",
        "        product = product.strip()  # Remove any leading/trailing whitespace\n",
        "        product_description.append(product)  # Add the formatted product details to the list\n",
        "        product_description_len.append(len(product))  # Store the length of the product description\n"
      ]
    },
    {
      "cell_type": "code",
      "execution_count": 16,
      "metadata": {
        "id": "Rd2Tpb2dTeQc",
        "colab": {
          "base_uri": "https://localhost:8080/"
        },
        "outputId": "075b513b-37ac-41fd-9030-de69dc408489"
      },
      "outputs": [
        {
          "output_type": "stream",
          "name": "stdout",
          "text": [
            "Number of elements 100\n"
          ]
        }
      ],
      "source": [
        "# Checking the length of the data\n",
        "print(f\"Number of elements {len(product_description)}\")"
      ]
    },
    {
      "cell_type": "code",
      "execution_count": 17,
      "metadata": {
        "id": "n7JLY31mTx0l",
        "colab": {
          "base_uri": "https://localhost:8080/",
          "height": 157
        },
        "outputId": "b7e4a85a-daac-4b70-a686-878d89e518c8"
      },
      "outputs": [
        {
          "output_type": "execute_result",
          "data": {
            "text/plain": [
              "'Title\\nHINS Metal Bucket Shape Plant Pot for Indoor & Outdoor Gardening (Red, Medium) Plant Stands for Indoor Balcony I Plant Bench I Plant Stands I Pot Stand Single I Potted Plant Stand I Big Pots I Metal\\nDescription\\nHINS Brings you the most Elegant Looking Pot with Stand for durable and long life Pot Stands for your lovely garden space, office and home. HINS is one of the best choice when it comes to indoor plants. It makes a good choice for housewarming gift. This beautiful product will take center stage with its sprawling design when planted with a plant. The metal stands are painted with powder-coated paint that will protect the galvanized iron from rusting. It will also prevent the color from fading. Each planter pot is removable for easy mobility, allowing you to switch out plants depending on your mood Note- Monitors are not calibrated same, item color displayed in photos may be showing slightly different from the real object. Please take the real one as standard. Please allow 0~2cm errors due to manual measurement.'"
            ],
            "application/vnd.google.colaboratory.intrinsic+json": {
              "type": "string"
            }
          },
          "metadata": {},
          "execution_count": 17
        }
      ],
      "source": [
        "# Check a sample product description data\n",
        "product_description[5]"
      ]
    },
    {
      "cell_type": "code",
      "execution_count": 18,
      "metadata": {
        "id": "kaPPz4ebT0P4",
        "colab": {
          "base_uri": "https://localhost:8080/"
        },
        "outputId": "ef80944e-335b-476f-e374-a6e699c1c973"
      },
      "outputs": [
        {
          "output_type": "stream",
          "name": "stdout",
          "text": [
            "Number of items 100\n",
            "Min Length of the description: 18\n",
            "Avg Length of the description: 385.9\n",
            "Median of the description: 120.0\n",
            "Max Length of the description: 1834\n"
          ]
        }
      ],
      "source": [
        "# Print the total number of product descriptions processed\n",
        "print(\"Number of items\", len(product_description_len))\n",
        "\n",
        "# Print the minimum length of the product descriptions\n",
        "print(\"Min Length of the description:\",np.min(product_description_len))\n",
        "\n",
        "# Print the average (mean) length of the product descriptions\n",
        "print(\"Avg Length of the description:\",np.mean(product_description_len))\n",
        "\n",
        "print(\"Median of the description:\",np.median(product_description_len))\n",
        "\n",
        "# Print the maximum length of the product descriptions\n",
        "print(\"Max Length of the description:\",np.max(product_description_len))"
      ]
    },
    {
      "cell_type": "markdown",
      "metadata": {
        "id": "R4y4JSH_Svat"
      },
      "source": [
        "### Interpretation:\n",
        "\n",
        "What does the above result signify about the data?\n",
        "\n",
        "\n",
        "\n",
        "\n"
      ]
    },
    {
      "cell_type": "code",
      "execution_count": 19,
      "metadata": {
        "id": "hwFdqweOT2xI"
      },
      "outputs": [],
      "source": [
        "# Importing RecursiveCharacterTextSplitter from LangChain for chunking large text into smaller, manageable pieces.\n",
        "# This helps in optimizing text for processing and retrieval.\n",
        "from langchain_text_splitters import RecursiveCharacterTextSplitter\n",
        "\n",
        "# Importing OpenAIEmbeddings from LangChain to generate numerical vector representations (embeddings) of text.\n",
        "# These embeddings capture the semantic meaning of the text for efficient similarity searches.\n",
        "from langchain_openai import OpenAIEmbeddings\n",
        "\n",
        "# Importing FAISS (Facebook AI Similarity Search) from LangChain's community package.\n",
        "# FAISS is used for storing and retrieving embeddings efficiently by finding similar vectors.\n",
        "from langchain_community.vectorstores import FAISS\n"
      ]
    },
    {
      "cell_type": "code",
      "execution_count": 20,
      "metadata": {
        "id": "2X3hxmTTUsr1"
      },
      "outputs": [],
      "source": [
        "# Setting the OpenAI API key as an environment variable.\n",
        "os.environ[\"OPENAI_API_KEY\"] = OPENAI_API_KEY"
      ]
    },
    {
      "cell_type": "code",
      "execution_count": 21,
      "metadata": {
        "id": "PD-uoBzLVtdw"
      },
      "outputs": [],
      "source": [
        "# Split the input text using Recursive Character Chunking\n",
        "# See this for more details https://python.langchain.com/v0.1/docs/modules/data_connection/document_transformers/recursive_text_splitter/\n",
        "\n",
        "text_splitter = RecursiveCharacterTextSplitter(\n",
        "    chunk_size=250,\n",
        "    chunk_overlap=20,\n",
        "    length_function=len,\n",
        ")\n",
        "documents = text_splitter.create_documents(product_description)"
      ]
    },
    {
      "cell_type": "code",
      "execution_count": 22,
      "metadata": {
        "id": "ptE8XpNLWD--"
      },
      "outputs": [],
      "source": [
        "# Create an embedding model using LangChain.\n",
        "# One option is using https://python.langchain.com/docs/integrations/text_embedding/openai/\n",
        "# See https://python.langchain.com/docs/integrations/text_embedding/ for a list of available embedding models on LangChain\n",
        "embeddings = OpenAIEmbeddings()"
      ]
    },
    {
      "cell_type": "code",
      "execution_count": 23,
      "metadata": {
        "id": "sSlO9vblWGDt"
      },
      "outputs": [],
      "source": [
        "# Create a vector store using the created chunks and the embeddings model\n",
        "vector = FAISS.from_documents(documents, embeddings)"
      ]
    },
    {
      "cell_type": "code",
      "execution_count": 24,
      "metadata": {
        "id": "nElsMdbeW4l1"
      },
      "outputs": [],
      "source": [
        "# Importing ChatOpenAI from LangChain to interact with OpenAI's language models, such as GPT, for generating responses.\n",
        "from langchain_openai import ChatOpenAI\n",
        "\n",
        "# Importing ChatPromptTemplate to create structured prompts for the chatbot, ensuring consistent interactions with the AI model.\n",
        "from langchain_core.prompts import ChatPromptTemplate\n",
        "\n",
        "# Importing OpenAIEmbeddings to convert text data into numerical vector representations for similarity search and retrieval.\n",
        "from langchain_openai import OpenAIEmbeddings\n",
        "\n",
        "# Importing ChatPromptTemplate again (duplicate import, should be removed to avoid redundancy).\n",
        "from langchain_core.prompts import ChatPromptTemplate\n",
        "\n",
        "# Importing create_stuff_documents_chain to combine and process retrieved documents for meaningful AI-generated responses.\n",
        "from langchain.chains.combine_documents import create_stuff_documents_chain\n",
        "\n",
        "# Importing create_retrieval_chain to build a chain that retrieves relevant documents from a vector store and generates AI responses.\n",
        "from langchain.chains import create_retrieval_chain\n",
        "\n",
        "# Importing StrOutputParser from LangChain to parse the output\n",
        "from langchain_core.output_parsers import StrOutputParser"
      ]
    },
    {
      "cell_type": "markdown",
      "source": [
        "#### Code Explanation:\n",
        "- `ChatOpenAI` – Used to access OpenAI models for chatbot functionality.\n",
        "- `ChatPromptTemplate` – Helps structure queries to ensure better responses.\n",
        "- `OpenAIEmbeddings` – Converts text into vector form for similarity-based retrieval.\n",
        "- `create_stuff_documents_chain` – Combines retrieved documents meaningfully before passing to the LLM.\n",
        "- `create_retrieval_chain` – Automates the process of retrieving and utilizing relevant content for AI responses.\n",
        "- `StrOutputParser` - For processing the output of language models, ensuring that the output is returned as a plain string"
      ],
      "metadata": {
        "id": "xVChvJAijx-1"
      }
    },
    {
      "cell_type": "code",
      "execution_count": 25,
      "metadata": {
        "id": "6dJXzILCXStu"
      },
      "outputs": [],
      "source": [
        "# Initializing the ChatOpenAI model to interact with OpenAI's GPT model.\n",
        "llm = ChatOpenAI(api_key=os.environ[\"OPENAI_API_KEY\"], model = 'gpt-4o-mini')"
      ]
    },
    {
      "cell_type": "code",
      "source": [
        "# Importing the output parser to process and format the model's response into a readable string format.\n",
        "output_parser = StrOutputParser()\n",
        "\n",
        "# Creating a prompt template that instructs the AI to act as a customer service agent.\n",
        "# The prompt takes two parameters:\n",
        "#   1. {context} - Relevant information retrieved from the document store.\n",
        "#   2. {input} - The user's question.\n",
        "# The model is instructed to base its answer solely on the provided context.\n",
        "prompt = ChatPromptTemplate.from_template(\n",
        "    \"\"\"Answer the following question based only on the provided context:\n",
        "\n",
        "    <context>\n",
        "    {context}\n",
        "    </context>\n",
        "\n",
        "    Question: {input}\"\"\",\n",
        "    output_parser= output_parser                  # The output parser ensures that the response is returned in a structured string format.\n",
        ")\n",
        "\n",
        "# Creating a document processing chain using the LLM and the defined prompt template.\n",
        "# This chain takes a list of retrieved documents and passes them as context to the model for generating responses.\n",
        "\n",
        "document_chain = create_stuff_documents_chain(llm, prompt)\n",
        "\n",
        "# Alternative chain creation method:\n",
        "# Using the \"|\" (pipe) operator to link the prompt with the language model (llm),\n",
        "# meaning the input first goes to the prompt and then to the model for response generation.\n",
        "# document_chain = prompt | llm\n"
      ],
      "metadata": {
        "id": "dPJ3yFeEk9EN"
      },
      "execution_count": 26,
      "outputs": []
    },
    {
      "cell_type": "code",
      "source": [
        "print(output_parser)"
      ],
      "metadata": {
        "colab": {
          "base_uri": "https://localhost:8080/"
        },
        "id": "FFX5zVc5pQnx",
        "outputId": "f1f89c24-8c21-4c9c-8a16-943e9183dab4",
        "collapsed": true
      },
      "execution_count": 28,
      "outputs": [
        {
          "output_type": "stream",
          "name": "stdout",
          "text": [
            "\n"
          ]
        }
      ]
    },
    {
      "cell_type": "code",
      "source": [
        "# Create a retriever from the vector store for fetching relevant documents\n",
        "# See https://python.langchain.com/v0.1/docs/modules/data_connection/retrievers/vectorstore/\n",
        "retriever = vector.as_retriever()\n",
        "\n",
        "# Create a retrieval chain that first retrieves relevant documents and then processes them using the document chain\n",
        "retrieval_chain = create_retrieval_chain(retriever, document_chain)\n"
      ],
      "metadata": {
        "id": "VMiWghjrl5oB"
      },
      "execution_count": 29,
      "outputs": []
    },
    {
      "cell_type": "code",
      "execution_count": 30,
      "metadata": {
        "id": "wUqxhEW3XcJX",
        "colab": {
          "base_uri": "https://localhost:8080/"
        },
        "outputId": "72930016-37cd-443a-bfaf-74d657dbcf85"
      },
      "outputs": [
        {
          "output_type": "execute_result",
          "data": {
            "text/plain": [
              "{'input': 'what are some of the best shoes available?',\n",
              " 'context': [Document(id='1430ad73-6ef1-4b65-99e3-b76dcf6afdc3', metadata={}, page_content=\"Title\\nadidas Men's Predator 18+ FG Firm Ground Soccer Cleats\\nDescription\\nadidas Predator 18+ FG- Black 7.5\"),\n",
              "  Document(id='057e59a2-d817-4dc3-b24b-3413ddb6a788', metadata={}, page_content=\"Title\\nPUMA Cali Sport Clean Women's Sneakers White Leather (37540701)\"),\n",
              "  Document(id='c1c524d4-a680-4a68-99a9-163b947a74b2', metadata={}, page_content=\"Title\\nKenneth Cole REACTION Men's Crespo Loafer B Shoe, Cognac, 10 M US\"),\n",
              "  Document(id='78850180-c46c-4f3c-8044-117f5f38c66a', metadata={}, page_content=\"The Remora Climbing Shoe is Mad Rock's do-it-all slipper for climbers who can't have separate shoes for boulders, sport routes, and gyms. With a moderately stiff, slightly downturned design, the Remora performs on any climb at steep to vertical\")],\n",
              " 'answer': \"Based on the provided context, some of the best shoes available include:\\n\\n1. adidas Men's Predator 18+ FG Firm Ground Soccer Cleats\\n2. PUMA Cali Sport Clean Women's Sneakers\\n3. Kenneth Cole REACTION Men's Crespo Loafer B Shoe\\n4. Mad Rock Remora Climbing Shoe\\n\\nThese products cater to different activities such as soccer, casual wear, formal occasions, and climbing.\"}"
            ]
          },
          "metadata": {},
          "execution_count": 30
        }
      ],
      "source": [
        "# Invoking the retrieval chain to process the user's query.\n",
        "# The query \"what are some of the best shoes available?\" is passed as input.\n",
        "# The retrieval chain first fetches relevant product descriptions from the vector store,\n",
        "# then processes them using the document chain to generate a meaningful AI response.\n",
        "retrieval_chain.invoke({\"input\": \"what are some of the best shoes available?\"})"
      ]
    },
    {
      "cell_type": "code",
      "execution_count": 31,
      "metadata": {
        "id": "QqNvod6GXfjx",
        "colab": {
          "base_uri": "https://localhost:8080/",
          "height": 69
        },
        "outputId": "eef99705-0fe1-45c2-80ba-91e7ee009f4d"
      },
      "outputs": [
        {
          "output_type": "execute_result",
          "data": {
            "text/plain": [
              "\"Based on the provided context, some of the best shoes available include:\\n\\n1. adidas Men's Predator 18+ FG Firm Ground Soccer Cleats\\n2. PUMA Cali Sport Clean Women's Sneakers\\n3. Kenneth Cole REACTION Men's Crespo Loafer B Shoe\\n4. Mad Rock Remora Climbing Shoe\\n\\nThese options cater to different activities such as soccer, casual wear, loafers, and climbing.\""
            ],
            "application/vnd.google.colaboratory.intrinsic+json": {
              "type": "string"
            }
          },
          "metadata": {},
          "execution_count": 31
        }
      ],
      "source": [
        "# Fetching the final answer from the retrieval chain by invoking it with a user query.\n",
        "# The ['answer'] key extracts the final AI-generated answer from the response dictionary.\n",
        "retrieval_chain.invoke({\"input\": \"what are some of the best shoes available?\"})['answer']"
      ]
    },
    {
      "cell_type": "markdown",
      "source": [
        "Now, we got the answer! But, the formatting is not very good, right? Lets create a simple UI for our bot."
      ],
      "metadata": {
        "id": "2tMQ3SGUnoad"
      }
    },
    {
      "cell_type": "code",
      "source": [
        "# Function to process the user query and return formatted product names\n",
        "def final_response(user_query):\n",
        "    # Invoking the retrieval chain with the user's query to fetch relevant product information\n",
        "    response = retrieval_chain.invoke({\"input\": user_query})['answer']\n",
        "\n",
        "    # Creating a prompt to instruct the AI to format the response properly\n",
        "    # The prompt asks the AI to extract only product names from the retrieved response\n",
        "    prompt = f\"Format the responses properly in {response}. Just return the product names, no other text\"\n",
        "\n",
        "    # Sending the formatted prompt to the GPT-4o-mini model for processing\n",
        "    openai_response = client.chat.completions.create(\n",
        "        model='gpt-4o-mini',  # Using GPT-4o-mini model for response generation\n",
        "        messages=[{'role': 'user', 'content': prompt}]  # Providing the prompt to the model\n",
        "    )\n",
        "\n",
        "    # Extracting and returning the AI-generated response containing only the product names\n",
        "    return openai_response.choices[0].message.content\n"
      ],
      "metadata": {
        "id": "PcAbbKmKoHZO"
      },
      "execution_count": 32,
      "outputs": []
    },
    {
      "cell_type": "code",
      "execution_count": 33,
      "metadata": {
        "id": "ttosPCA2bLYz",
        "colab": {
          "base_uri": "https://localhost:8080/"
        },
        "outputId": "7201cc18-2987-44ad-b703-02fbc41288cc"
      },
      "outputs": [
        {
          "output_type": "stream",
          "name": "stdout",
          "text": [
            "1. adidas Men's Predator 18+ FG Firm Ground Soccer Cleats  \n",
            "2. PUMA Cali Sport Clean Women's Sneakers  \n",
            "3. Kenneth Cole REACTION Men's Crespo Loafer B Shoe  \n",
            "4. Mad Rock Remora Climbing Shoe\n"
          ]
        }
      ],
      "source": [
        "# Printing the final response\n",
        "print(final_response(\"what are some of the best shoes available?\"))\n"
      ]
    },
    {
      "cell_type": "code",
      "execution_count": 34,
      "metadata": {
        "id": "jjS_RUh6ZstZ",
        "colab": {
          "base_uri": "https://localhost:8080/",
          "height": 680
        },
        "outputId": "45abda75-b78b-495a-8edb-bb49260ab9f5"
      },
      "outputs": [
        {
          "output_type": "stream",
          "name": "stderr",
          "text": [
            "/usr/local/lib/python3.11/dist-packages/gradio/interface.py:415: UserWarning: The `allow_flagging` parameter in `Interface` is deprecated.Use `flagging_mode` instead.\n",
            "  warnings.warn(\n"
          ]
        },
        {
          "output_type": "stream",
          "name": "stdout",
          "text": [
            "Running Gradio in a Colab notebook requires sharing enabled. Automatically setting `share=True` (you can turn this off by setting `share=False` in `launch()` explicitly).\n",
            "\n",
            "Colab notebook detected. To show errors in colab notebook, set debug=True in launch()\n",
            "* Running on public URL: https://17ca98b327f5e537fe.gradio.live\n",
            "\n",
            "This share link expires in 72 hours. For free permanent hosting and GPU upgrades, run `gradio deploy` from the terminal in the working directory to deploy to Hugging Face Spaces (https://huggingface.co/spaces)\n"
          ]
        },
        {
          "output_type": "display_data",
          "data": {
            "text/plain": [
              "<IPython.core.display.HTML object>"
            ],
            "text/html": [
              "<div><iframe src=\"https://17ca98b327f5e537fe.gradio.live\" width=\"100%\" height=\"500\" allow=\"autoplay; camera; microphone; clipboard-read; clipboard-write;\" frameborder=\"0\" allowfullscreen></iframe></div>"
            ]
          },
          "metadata": {}
        },
        {
          "output_type": "execute_result",
          "data": {
            "text/plain": []
          },
          "metadata": {},
          "execution_count": 34
        }
      ],
      "source": [
        "# Importing the Gradio library to create a simple web-based user interface\n",
        "import gradio as gr\n",
        "\n",
        "# Creating the Gradio interface for the product recommendation system\n",
        "app = gr.Interface(\n",
        "    fn= final_response,        # The function that processes user input and returns recommendations\n",
        "    inputs= \"text\",            # Input component: a text box for users to enter their query\n",
        "    outputs= \"text\" ,           # Output component: a text box to display the AI-generated response\n",
        "    title= \"Review Gene\"        ,     # The title of the web interface\n",
        "    description= \"Type your question to get recommendations\"          ,# A brief description displayed to users\n",
        "    theme=\"Ocean\",\n",
        "    allow_flagging=\"never\"    # Disabling the flagging feature to remove the \"Flag\" button\n",
        ")\n",
        "\n",
        "# Launching the Gradio app to start the interface and make it accessible via web browser\n",
        "app.launch()\n"
      ]
    }
  ],
  "metadata": {
    "colab": {
      "provenance": []
    },
    "kernelspec": {
      "display_name": "Python 3",
      "name": "python3"
    },
    "language_info": {
      "name": "python"
    }
  },
  "nbformat": 4,
  "nbformat_minor": 0
}